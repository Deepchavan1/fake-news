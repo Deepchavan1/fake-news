{
 "cells": [
  {
   "cell_type": "code",
   "execution_count": 1,
   "id": "09abcddb",
   "metadata": {},
   "outputs": [],
   "source": [
    "import pandas as pd"
   ]
  },
  {
   "cell_type": "code",
   "execution_count": 2,
   "id": "0bdef377",
   "metadata": {},
   "outputs": [],
   "source": [
    "df = pd.read_csv('train.csv')\n",
    "df2 = pd.read_csv('test.csv')"
   ]
  },
  {
   "cell_type": "code",
   "execution_count": 3,
   "id": "17919d27",
   "metadata": {},
   "outputs": [
    {
     "data": {
      "text/html": [
       "<div>\n",
       "<style scoped>\n",
       "    .dataframe tbody tr th:only-of-type {\n",
       "        vertical-align: middle;\n",
       "    }\n",
       "\n",
       "    .dataframe tbody tr th {\n",
       "        vertical-align: top;\n",
       "    }\n",
       "\n",
       "    .dataframe thead th {\n",
       "        text-align: right;\n",
       "    }\n",
       "</style>\n",
       "<table border=\"1\" class=\"dataframe\">\n",
       "  <thead>\n",
       "    <tr style=\"text-align: right;\">\n",
       "      <th></th>\n",
       "      <th>id</th>\n",
       "      <th>title</th>\n",
       "      <th>author</th>\n",
       "      <th>text</th>\n",
       "      <th>label</th>\n",
       "    </tr>\n",
       "  </thead>\n",
       "  <tbody>\n",
       "    <tr>\n",
       "      <th>0</th>\n",
       "      <td>0</td>\n",
       "      <td>House Dem Aide: We Didn’t Even See Comey’s Let...</td>\n",
       "      <td>Darrell Lucus</td>\n",
       "      <td>House Dem Aide: We Didn’t Even See Comey’s Let...</td>\n",
       "      <td>1</td>\n",
       "    </tr>\n",
       "    <tr>\n",
       "      <th>1</th>\n",
       "      <td>1</td>\n",
       "      <td>FLYNN: Hillary Clinton, Big Woman on Campus - ...</td>\n",
       "      <td>Daniel J. Flynn</td>\n",
       "      <td>Ever get the feeling your life circles the rou...</td>\n",
       "      <td>0</td>\n",
       "    </tr>\n",
       "    <tr>\n",
       "      <th>2</th>\n",
       "      <td>2</td>\n",
       "      <td>Why the Truth Might Get You Fired</td>\n",
       "      <td>Consortiumnews.com</td>\n",
       "      <td>Why the Truth Might Get You Fired October 29, ...</td>\n",
       "      <td>1</td>\n",
       "    </tr>\n",
       "    <tr>\n",
       "      <th>3</th>\n",
       "      <td>3</td>\n",
       "      <td>15 Civilians Killed In Single US Airstrike Hav...</td>\n",
       "      <td>Jessica Purkiss</td>\n",
       "      <td>Videos 15 Civilians Killed In Single US Airstr...</td>\n",
       "      <td>1</td>\n",
       "    </tr>\n",
       "    <tr>\n",
       "      <th>4</th>\n",
       "      <td>4</td>\n",
       "      <td>Iranian woman jailed for fictional unpublished...</td>\n",
       "      <td>Howard Portnoy</td>\n",
       "      <td>Print \\nAn Iranian woman has been sentenced to...</td>\n",
       "      <td>1</td>\n",
       "    </tr>\n",
       "  </tbody>\n",
       "</table>\n",
       "</div>"
      ],
      "text/plain": [
       "   id                                              title              author  \\\n",
       "0   0  House Dem Aide: We Didn’t Even See Comey’s Let...       Darrell Lucus   \n",
       "1   1  FLYNN: Hillary Clinton, Big Woman on Campus - ...     Daniel J. Flynn   \n",
       "2   2                  Why the Truth Might Get You Fired  Consortiumnews.com   \n",
       "3   3  15 Civilians Killed In Single US Airstrike Hav...     Jessica Purkiss   \n",
       "4   4  Iranian woman jailed for fictional unpublished...      Howard Portnoy   \n",
       "\n",
       "                                                text  label  \n",
       "0  House Dem Aide: We Didn’t Even See Comey’s Let...      1  \n",
       "1  Ever get the feeling your life circles the rou...      0  \n",
       "2  Why the Truth Might Get You Fired October 29, ...      1  \n",
       "3  Videos 15 Civilians Killed In Single US Airstr...      1  \n",
       "4  Print \\nAn Iranian woman has been sentenced to...      1  "
      ]
     },
     "execution_count": 3,
     "metadata": {},
     "output_type": "execute_result"
    }
   ],
   "source": [
    "df.head()"
   ]
  },
  {
   "cell_type": "code",
   "execution_count": 4,
   "id": "9a612c8d",
   "metadata": {},
   "outputs": [
    {
     "data": {
      "text/plain": [
       "(20800, 5)"
      ]
     },
     "execution_count": 4,
     "metadata": {},
     "output_type": "execute_result"
    }
   ],
   "source": [
    "df.shape"
   ]
  },
  {
   "cell_type": "code",
   "execution_count": 5,
   "id": "36c20be9",
   "metadata": {},
   "outputs": [],
   "source": [
    "from sklearn.feature_extraction.text import CountVectorizer, TfidfVectorizer, HashingVectorizer"
   ]
  },
  {
   "cell_type": "code",
   "execution_count": 6,
   "id": "726e8af9",
   "metadata": {},
   "outputs": [
    {
     "data": {
      "text/plain": [
       "id           0\n",
       "title      558\n",
       "author    1957\n",
       "text        39\n",
       "label        0\n",
       "dtype: int64"
      ]
     },
     "execution_count": 6,
     "metadata": {},
     "output_type": "execute_result"
    }
   ],
   "source": [
    "df.isnull().sum()"
   ]
  },
  {
   "cell_type": "code",
   "execution_count": 7,
   "id": "bc02a67d",
   "metadata": {},
   "outputs": [],
   "source": [
    "df = df.dropna()\n",
    "df2 = df2.dropna()"
   ]
  },
  {
   "cell_type": "code",
   "execution_count": 8,
   "id": "4276fb56",
   "metadata": {},
   "outputs": [],
   "source": [
    "messages = df.copy()\n",
    "messages_2 = df2.copy()"
   ]
  },
  {
   "cell_type": "code",
   "execution_count": 9,
   "id": "b13983d2",
   "metadata": {},
   "outputs": [],
   "source": [
    "messages.reset_index(inplace=True)\n",
    "messages_2.reset_index(inplace=True)"
   ]
  },
  {
   "cell_type": "code",
   "execution_count": 10,
   "id": "76c82248",
   "metadata": {},
   "outputs": [
    {
     "data": {
      "text/html": [
       "<div>\n",
       "<style scoped>\n",
       "    .dataframe tbody tr th:only-of-type {\n",
       "        vertical-align: middle;\n",
       "    }\n",
       "\n",
       "    .dataframe tbody tr th {\n",
       "        vertical-align: top;\n",
       "    }\n",
       "\n",
       "    .dataframe thead th {\n",
       "        text-align: right;\n",
       "    }\n",
       "</style>\n",
       "<table border=\"1\" class=\"dataframe\">\n",
       "  <thead>\n",
       "    <tr style=\"text-align: right;\">\n",
       "      <th></th>\n",
       "      <th>index</th>\n",
       "      <th>id</th>\n",
       "      <th>title</th>\n",
       "      <th>author</th>\n",
       "      <th>text</th>\n",
       "    </tr>\n",
       "  </thead>\n",
       "  <tbody>\n",
       "    <tr>\n",
       "      <th>0</th>\n",
       "      <td>0</td>\n",
       "      <td>20800</td>\n",
       "      <td>Specter of Trump Loosens Tongues, if Not Purse...</td>\n",
       "      <td>David Streitfeld</td>\n",
       "      <td>PALO ALTO, Calif.  —   After years of scorning...</td>\n",
       "    </tr>\n",
       "    <tr>\n",
       "      <th>1</th>\n",
       "      <td>2</td>\n",
       "      <td>20802</td>\n",
       "      <td>#NoDAPL: Native American Leaders Vow to Stay A...</td>\n",
       "      <td>Common Dreams</td>\n",
       "      <td>Videos #NoDAPL: Native American Leaders Vow to...</td>\n",
       "    </tr>\n",
       "    <tr>\n",
       "      <th>2</th>\n",
       "      <td>3</td>\n",
       "      <td>20803</td>\n",
       "      <td>Tim Tebow Will Attempt Another Comeback, This ...</td>\n",
       "      <td>Daniel Victor</td>\n",
       "      <td>If at first you don’t succeed, try a different...</td>\n",
       "    </tr>\n",
       "    <tr>\n",
       "      <th>3</th>\n",
       "      <td>4</td>\n",
       "      <td>20804</td>\n",
       "      <td>Keiser Report: Meme Wars (E995)</td>\n",
       "      <td>Truth Broadcast Network</td>\n",
       "      <td>42 mins ago 1 Views 0 Comments 0 Likes 'For th...</td>\n",
       "    </tr>\n",
       "    <tr>\n",
       "      <th>4</th>\n",
       "      <td>6</td>\n",
       "      <td>20806</td>\n",
       "      <td>Pelosi Calls for FBI Investigation to Find Out...</td>\n",
       "      <td>Pam Key</td>\n",
       "      <td>Sunday on NBC’s “Meet the Press,” House Minori...</td>\n",
       "    </tr>\n",
       "    <tr>\n",
       "      <th>5</th>\n",
       "      <td>7</td>\n",
       "      <td>20807</td>\n",
       "      <td>Weekly Featured Profile – Randy Shannon</td>\n",
       "      <td>Trevor Loudon</td>\n",
       "      <td>You are here: Home / *Articles of the Bound* /...</td>\n",
       "    </tr>\n",
       "    <tr>\n",
       "      <th>6</th>\n",
       "      <td>10</td>\n",
       "      <td>20810</td>\n",
       "      <td>184 U.S. generals and admirals endorse Trump f...</td>\n",
       "      <td>Dr. Eowyn</td>\n",
       "      <td>Have you seen that pro-Hillary TV ad of disgra...</td>\n",
       "    </tr>\n",
       "    <tr>\n",
       "      <th>7</th>\n",
       "      <td>11</td>\n",
       "      <td>20811</td>\n",
       "      <td>“Working Class Hero” by John Brennon</td>\n",
       "      <td>Doug Diamond</td>\n",
       "      <td>Source: CNBC, article by Robert Ferris Arctic ...</td>\n",
       "    </tr>\n",
       "    <tr>\n",
       "      <th>8</th>\n",
       "      <td>12</td>\n",
       "      <td>20812</td>\n",
       "      <td>The Rise of Mandatory Vaccinations Means the E...</td>\n",
       "      <td>Shaun Bradley</td>\n",
       "      <td>Written by Shaun Bradley   Mandatory vaccinati...</td>\n",
       "    </tr>\n",
       "    <tr>\n",
       "      <th>9</th>\n",
       "      <td>13</td>\n",
       "      <td>20813</td>\n",
       "      <td>Communists Terrorize Small Business</td>\n",
       "      <td>Steve Watson</td>\n",
       "      <td>Store Communists Terrorize Small Business The ...</td>\n",
       "    </tr>\n",
       "  </tbody>\n",
       "</table>\n",
       "</div>"
      ],
      "text/plain": [
       "   index     id                                              title  \\\n",
       "0      0  20800  Specter of Trump Loosens Tongues, if Not Purse...   \n",
       "1      2  20802  #NoDAPL: Native American Leaders Vow to Stay A...   \n",
       "2      3  20803  Tim Tebow Will Attempt Another Comeback, This ...   \n",
       "3      4  20804                    Keiser Report: Meme Wars (E995)   \n",
       "4      6  20806  Pelosi Calls for FBI Investigation to Find Out...   \n",
       "5      7  20807            Weekly Featured Profile – Randy Shannon   \n",
       "6     10  20810  184 U.S. generals and admirals endorse Trump f...   \n",
       "7     11  20811               “Working Class Hero” by John Brennon   \n",
       "8     12  20812  The Rise of Mandatory Vaccinations Means the E...   \n",
       "9     13  20813                Communists Terrorize Small Business   \n",
       "\n",
       "                    author                                               text  \n",
       "0         David Streitfeld  PALO ALTO, Calif.  —   After years of scorning...  \n",
       "1            Common Dreams  Videos #NoDAPL: Native American Leaders Vow to...  \n",
       "2            Daniel Victor  If at first you don’t succeed, try a different...  \n",
       "3  Truth Broadcast Network  42 mins ago 1 Views 0 Comments 0 Likes 'For th...  \n",
       "4                  Pam Key  Sunday on NBC’s “Meet the Press,” House Minori...  \n",
       "5            Trevor Loudon  You are here: Home / *Articles of the Bound* /...  \n",
       "6                Dr. Eowyn  Have you seen that pro-Hillary TV ad of disgra...  \n",
       "7             Doug Diamond  Source: CNBC, article by Robert Ferris Arctic ...  \n",
       "8            Shaun Bradley  Written by Shaun Bradley   Mandatory vaccinati...  \n",
       "9             Steve Watson  Store Communists Terrorize Small Business The ...  "
      ]
     },
     "execution_count": 10,
     "metadata": {},
     "output_type": "execute_result"
    }
   ],
   "source": [
    "messages_2.head(10)"
   ]
  },
  {
   "cell_type": "code",
   "execution_count": 11,
   "id": "5216d042",
   "metadata": {},
   "outputs": [
    {
     "data": {
      "text/plain": [
       "'Have you seen that pro-Hillary TV ad of disgraced Gen. John Allen? \\nNauseating. \\nYou should know that in 2011, Allen, then a 4-star general in the U.S. Marine Corps, was nominated to be NATO’s Supreme Allied Commander, Europe, pending confirmation by the Senate. On November 13, 2012, Defense Secretary Leon Panetta suspended Allen’s confirmation hearing, pending investigations into the general’s “inappropriate communication” with a woman named Jill Kelley. Gen. John Allen (l); Jill Kelley (r) \\nAs part of the fallout of the Gen. David Petraeus -Paula Broadwell affair, the FBI uncovered 20,000 to 30,000 pages of correspondence — mostly email — between Allen and Kelley from 2010 to 2012. Reportedly, their correspondence was “flirtatious” and “inappropriate” as Allen and Kelley were both married at the time, but not to each other. \\nSeriously, how can a 4-star general even have so much free time as to write 20,000 to 30,000 emails in the space of two years to ANYONE? 20,000 emails mean an average of 28 emails a day exchanged between Allen and Kelley; 30,000 emails mean an average of 42 emails a day. There is no one with whom I’ve exchanged 28 emails a day, even less 42 emails. \\nThe upshot: Not only did John Allen lose his confirmation as NATO’s Supreme Allied Commander, he also lost his job as Commander of U.S. forces in Afghanistan — a post to which he was promoted to replace the disgraced Gen. Petraeus. (See “ Obama purges U.S. military command (Part 1) ”) \\nAllen retired from the military in February 2013, but was appointed Special Presidential Envoy for the Global Coalition to Counter ISIL (or ISIS) — a post and title created for Allen by Obama, which Allen held for about a year from September 2014 until October 23, 2015. \\nAllen was a featured speaker at the 2016 Democratic National Convention in Philadelphia. He criticized Donald Trump and endorsed Hillary Clinton — who abandoned four Americans to die in Benghazi — for President. \\nLike the New Yorker that he is, Trump fired back, calling Allen “a failed general.” \\nTrump does have the endorsement of 184 non-failed and non-disgraced U.S. generals and admirals, including at least four 4-star and fourteen 3-star flag officers, as well as the endorsement of 14 Medal of Honor recipients. \\nThe endorsements began with an open letter on Sept. 6, 2016, from 88 retired U.S. general and admirals : “The 2016 election affords the American people an urgently needed opportunity to make a long-overdue course correction in our national security posture and policy. As retired senior leaders of America’s military, we believe that such a change can only be made by someone who has not been deeply involved with, and substantially responsible for, the hollowing out of our military and the burgeoning threats facing our country around the world. For this reason, we support Donald Trump’s candidacy to be our next Commander-in-Chief. For the past eight years, America’s armed forces have been subjected to a series of ill-considered and debilitating budget cuts, policy choices and combat operations that have left the superb men and women in uniform less capable of performing their vital missions in the future than we require them to be. Simultaneously, enemies of this country have been emboldened, sensing weakness and irresolution in Washington and opportunities for aggression at our expense and that of other freedom-loving nations. In our professional judgment, the combined effect is potentially extremely perilous. That is especially the case if our government persists in the practices that have brought us to this present pass. For this reason, we support Donald Trump and his commitment to rebuild our military, to secure our borders, to defeat our Islamic supremacist adversaries and restore law and order domestically. We urge our fellow Americans to do the same.” \\nTwo days later on Sept. 8, another 21 retired U.S. generals and admirals joined the list, followed by 31 more the next day, on Sept. 9, and another 44 on Sept. 16, bringing the total number of flag officers who have endorsed Trump to 184. \\nBelow is the list, as of Sept. 16, 2016, of the retired U.S. generals and admirals, who are endorsing Trump for President and Commander-In-Chief: General Burwell B. Bell III, US Army, Retired General Alfred G. Hansen, US Air Force, Retired Admiral Jerry Johnson, US Navy, Retired Lieutenant General William G. Boykin, US Army, Retired Lieutenant General Marvin Covault, US Army, Retired Lieutenant General Brett Dula, US Air Force, Retired Lieutenant General Dan Duren, US Air Force, Retired Lieutenant General Harold T. Fields, US Army, Retired Lieutenant General Bruce L. Fister, US Air Force, Retired Lieutenant General Michael Flynn, US Army, Retired Lieutenant General Gordon E, Fornell, US Air Force, Retired Lieutenant Jay Garner, US Army, Retired Lieutenant General Ron Hite, US Army, Retired Lieutenant Generals John I. Hudson, USMC, Retired Lieutenant General Harley Hughes, US Air Force, Retired Lieutenant General Keith Kellogg, US Army, Retired Lieutenant General Timothy A. Kinnan, US Air Force, Retired Lieutenant General Joe Kinzer, US Army, US Army, Retired Lieutenant General Bennett L. Lewis, US Army, Retired Lieutenant General Frederick McCorkle, US MC, Retired Lieutenant General Thomas McInerney, US Air Force, Retired Lieutenant General Clifford H. Rees, Jr. US Air Force, Retired Lieutenant James C. Riley, US Army, Retired Lieutenant General Hugh G. Smith, US Army, Retired Lieutenant General John B. Sylvester, US Army, Retired Lieutenant General David J. Teal, US Air Force, Retired Lieutenant General William E. Thurman, US Air Force, Retired Lieutenant General Jack Woodward, US Air Force, Retired Vice Admiral Mike Bucchi, US Navy, Retired Vice Admiral Edward Clexton, Jr. US Navy, Retired Vice Admiral Bernard M. Kauderer, US Navy, Retired Vice Admiral J. Theodore Parker, US Navy, Retired Vice Admiral R.F.Schoultz, US Navy, Retired Vice Admiral Robert Spane, US Navy, Retired Vice Admiral Donald Thompson, US Coast Guard, Retired Vice Admiral Howard B. Thorsen, US Coast Guard, Retired Vice Admiral John Totushek, US Navy, Retired Vice Admiral Jerry Unruh, US Navy, Retired Major General Joe Arbuckle, US Army, Retired Major General John Bianchi, CSMR, Retired Major General Pat Brady, US Army, Retired Major General Bobby G. Butcher, US Marine Corps, Retired, Major General Henry D. Canterbury, US Air Force, Retired Major General Carroll D. Childers, US Army, Retired Major General Jeffrey Cliver, US Air Force, Retired Major General Tommy F. Crawford, US Air Force, Retired Major General Harley Davis, US Army, Retired Major General Felix Dupre, US Air Force, Retired Major General Neil Eddins, US Air Force, Retired Major General David W. Eidsaune, US Air Force, Retired Major General John R. Farrington, US Air Force, Retired Major General Dave Garza, US Marine Corps, Retired Major General William A. Gorton, US Air Force, Retired Major General Kenneth Hagemann, US Air Force, Retired Major General Gary L. Harrell, US Army, Retired Major General Geoffrey Higginbothan, US Marine Corps, Retired Major General Kent Hillhouse,US Army, Retired Major General Jerry D. Holmes, US Air Force, Retired Major General John A. Leide, US Army, Retired Major General James E. Livingston, USMC, Retired Major General John D. Logeman, Jr., US Air Force, Retired Major General Homer S. Long, US Army, Retired Major General Billy McCoy, US Air Force, Retired Major General Robert Messerli, US Air Force, Retired Major General John Miller, US Air Force, Retired Major General Ray O’Mara, US Air Force, Retired Major General George W.“Nordie” Norwood, US Air Force, Retired Major General Robert W. Paret, US Air Force MC, Retired Major General James W. Parker, US Army, Retired Major General Richard Perraut, US Air Force, Retired Major General R.V. Secord, US Air Force, Retired Major General Sidney Shachnow, US Army, Retired Major General Edison E. Scholes, US Army (Retired) Major General Richard A. Scholtes,US Army, Retired Major General Mark Solo, US Air Force, Retired Major General James N. Stewart, US Air Force, Retired Major General Michael Sullivan, US MC, Retired Major General Thomas R. Tempel, US Army, Retired Major General Richard L. Testa, US Air Force, Retired Major General Paul E. Vallely, US Army, Retired Major General John Welde, US Air Force, Retired Major General Kenneth W. Weir, US Marine Corps, Retired Major General Michael Wiedemer, US Air Force, Retired Rear Admiral Phillip Anselmo, US Navy, Retired Rear Admiral Peter Booth, US Navy,Retired Rear Admiral Thomas F. Brown III, US Navy, Retired Rear Admiral James J. Carey,US Navy, Retired Rear Admiral, Larry Chambers, US Navy, Retired Rear Admiral Robert C. Crates, SC, US Navy, Retired Rear Admiral Mimi Drew, US Navy, Retired Rear Admiral Ernest Elliot, SC, US Navy, Retired Rear Admiral James H. Flatley III, US Navy, Retired Rear Admiral Vance H. Fry, SC, US Navy, Retired Rear Admiral Byron Fuller, US Navy, Retired Rear Admiral George M. Furlong, US Navy, Retired Rear Admiral Albert Gallotta, Jr. US Navy, Retired Rear Admiral Michael R. Groothousen US Navy, Retired Rear Admiral William A. Guereck, US Navy, Retired Rear Admiral Dale Hagen, US Navy, Retired Rear Admiral John G. Hekman, US Navy, Retired Rear Admiral Charles F. Horne III US Navy, Retired Rear Admiral William P Houley, US Navy, Retired Rear Admiral Grady L. Jackson, US Navy, Retired Rear Admiral J. Adrian Jackson, US Navy, Retired Rear Admiral Frederick C. Johnson, US Navy, Retired Rear Admiral Pierce J. Johnson, US Navy, Retired Rear Admiral Jack Kavanaugh, SC, US Navy, Retired Rear Admiral Charles R.Kubic, US Navy, Retired Rear Admiral Rich Landolt, US Navy, Retired Rear Admiral Don Loren, US Navy, Retired Rear Admiral William J. McDaniel, MD, US Navy, Retired Rear Admiral E.S. McGinley II, US Navy, Retired Rear Admiral Fred Metz, US Navy, Retired Rear Admiral Douglas M. Moore Jr. SC US Navy. Retired Rear Admiral John A. Moriarty, US Navy, Retired Rear Admiral David R. Morris, US Navy, Retired Rear Admiral James A. Mozart, SC US Navy, Retired Rear Admiral Ed Nelson, US Coast Guard, Retired Rear Admiral Philip R. Olsen, US Navy, Retired Rear Admiral Robert S. Owens, US Navy, Retired Rear Admiral Robert Passmore,US Navy, Retired Rear Admiral W.W. Pickavance, Jr., US Navy, Retired Rear Admiral Leonard F. Picotte, US Navy, Retired Rear Admiral Brian C. Prindle, US Navy, Retired Rear Admiral Mike Roesner, SC USN, Retired Rear Admiral William J. Ryan, US Navy, Retired Rear Admiral William L. Schachte, Jr., US Navy JAGC, Retired Rear Admiral William R. Schmidt, US Navy, Retired Rear Admiral William H. Shawcross, US Navy, Retired Rear Admiral Hugh P. Scott, US Navy, MC, Retired Rear Admiral Gregory Slavonic, US Navy, Retired Rear Admiral Paul Sutherland, US Navy, Retired Rear Admiral Charles Williams, US Navy, Retired Rear Admiral H. Denny Wisely, US Navy, Retired Rear Admiral Theodore J. Wojnar, US Coast Guard, Retired Brigadier General Charles L. Bishop, US Army, Retired Brigadier General Remo Butler, US Army, Retired Brigadier General Jimmy L. Cash, US Air Force, Retired Brigadier General George P. Cole, Jr. US Air Force, Retired Brigadier General Philip M. Drew, US Air Force, Retired Brigadier General Jerome V. Foust, US Army, Retired Brigadier General Norman Ham, US Air Force, Retired Brigadier General Thomas W. Honeywill, US Air Force, Retired Brigadier General Charles Jones, US Air Force, Retired Brigadier General Gary M. Jones, US Army, Retired Brigadier General James M. Johnston III, US Air Force, Retired Brigadier General Thomas J. Lennon, US Air Force, Retired Brigadier General Bruce Miketinac, US Army, Retired Brigadier General Bert Mizusawa, US Army, Retired Brigadier General Harold C. Morgan, US Air Force, Retired Brigadier General Stephen Mundt, US Army, Retired Brigadier General Mike Neil, US Marines Corps, Retired Brigadier general Robert V. Paschon, US Air Force, Retired Brigadier General Mark D. Scraba, US Army, Retired Brigadier General George L. Schulstad, US Air Force, Retired Brigadier General Richard M. Tabor, US Army, retired Brigadier General Hugh B. Tant III, US Army, Retired Brigadier General Troy Tolbert, US Air Force, Retired Brigadier General Robert F. Titus, US Air Force, Retired Brigadier General William O. Walsh, US Air Force, Retired Brigadier General Robert V. Woods, US Air Force Retired Admiral James “Ace” Lyons, Retired'"
      ]
     },
     "execution_count": 11,
     "metadata": {},
     "output_type": "execute_result"
    }
   ],
   "source": [
    "messages['text'][6]\n",
    "messages_2['text'][6]"
   ]
  },
  {
   "cell_type": "code",
   "execution_count": 12,
   "id": "b9a90138",
   "metadata": {},
   "outputs": [],
   "source": [
    "from nltk.corpus import stopwords\n",
    "from nltk.stem.porter import PorterStemmer\n",
    "import re"
   ]
  },
  {
   "cell_type": "code",
   "execution_count": 13,
   "id": "54939dfa",
   "metadata": {},
   "outputs": [],
   "source": [
    "ps = PorterStemmer()\n",
    "corpus = []\n",
    "\n",
    "corpus_2 = []"
   ]
  },
  {
   "cell_type": "code",
   "execution_count": 14,
   "id": "e4d92a33",
   "metadata": {},
   "outputs": [
    {
     "name": "stderr",
     "output_type": "stream",
     "text": [
      "[nltk_data] Downloading package stopwords to /Users/deep/nltk_data...\n",
      "[nltk_data]   Package stopwords is already up-to-date!\n"
     ]
    },
    {
     "data": {
      "text/plain": [
       "True"
      ]
     },
     "execution_count": 14,
     "metadata": {},
     "output_type": "execute_result"
    }
   ],
   "source": [
    "import nltk\n",
    "nltk.download('stopwords')"
   ]
  },
  {
   "cell_type": "code",
   "execution_count": null,
   "id": "ba56bc90",
   "metadata": {},
   "outputs": [],
   "source": [
    "# cleaning text : removing special character, converting to lower letters\n",
    "for i in range(0, len(messages)):\n",
    "    review = re.sub('[^a-zA-Z]', ' ', messages['text'][i])\n",
    "    review = review.lower()\n",
    "    review = review.split()\n",
    "    \n",
    "    review = [ps.stem(word) for word in review if not word in stopwords.words('english')]\n",
    "    review = ' '.join(review)\n",
    "    corpus.append(review)\n",
    "    \n",
    "for i in range(0, len(messages_2)):\n",
    "    review = re.sub('[^a-zA-Z]', ' ', messages_2['text'][i])\n",
    "    review = review.lower()\n",
    "    review = review.split()\n",
    "    \n",
    "    review = [ps.stem(word) for word in review if not word in stopwords.words('english')]\n",
    "    review = ' '.join(review)\n",
    "    corpus_2.append(review)"
   ]
  },
  {
   "cell_type": "code",
   "execution_count": null,
   "id": "74166c10",
   "metadata": {},
   "outputs": [],
   "source": [
    "corpus_2"
   ]
  },
  {
   "cell_type": "markdown",
   "id": "a404b7c5",
   "metadata": {},
   "source": [
    "# applying countVectorizer\n",
    "# creating bag of words model"
   ]
  },
  {
   "cell_type": "code",
   "execution_count": null,
   "id": "dc510677",
   "metadata": {},
   "outputs": [],
   "source": [
    "from sklearn.feature_extraction.text import CountVectorizer"
   ]
  },
  {
   "cell_type": "code",
   "execution_count": null,
   "id": "13db3fd5",
   "metadata": {},
   "outputs": [],
   "source": [
    "cv = CountVectorizer(max_features=5000,ngram_range=(1,3))\n",
    "x = cv.fit_transform(corpus).toarray()\n",
    "x_test = cv.fit_transform(corpus_2).toarray()"
   ]
  },
  {
   "cell_type": "code",
   "execution_count": null,
   "id": "0d282ef7",
   "metadata": {},
   "outputs": [],
   "source": [
    "x.shape"
   ]
  },
  {
   "cell_type": "code",
   "execution_count": null,
   "id": "c5a55927",
   "metadata": {},
   "outputs": [],
   "source": [
    "y = messages['label']"
   ]
  },
  {
   "cell_type": "code",
   "execution_count": null,
   "id": "e50fe302",
   "metadata": {},
   "outputs": [],
   "source": [
    "cv.get_feature_names()"
   ]
  },
  {
   "cell_type": "code",
   "execution_count": null,
   "id": "2d5e6384",
   "metadata": {},
   "outputs": [],
   "source": [
    "cv.get_params()"
   ]
  },
  {
   "cell_type": "code",
   "execution_count": null,
   "id": "362aafde",
   "metadata": {},
   "outputs": [],
   "source": [
    "count_df = pd.DataFrame(x, columns=cv.get_feature_names())"
   ]
  },
  {
   "cell_type": "code",
   "execution_count": null,
   "id": "0f61b941",
   "metadata": {},
   "outputs": [],
   "source": [
    "count_df.head(10)"
   ]
  },
  {
   "cell_type": "code",
   "execution_count": null,
   "id": "0d34d336",
   "metadata": {},
   "outputs": [],
   "source": [
    "import matplotlib.pyplot as plt"
   ]
  },
  {
   "cell_type": "code",
   "execution_count": null,
   "id": "ad38a49b",
   "metadata": {},
   "outputs": [],
   "source": [
    "def plot_confusion_matrix(cm, classes,\n",
    "                          normalize=False,\n",
    "                          title='Confusion matrix',\n",
    "                          cmap=plt.cm.Blues):\n",
    "    \"\"\"\n",
    "    See full source and example: \n",
    "    http://scikit-learn.org/stable/auto_examples/model_selection/plot_confusion_matrix.html\n",
    "    \n",
    "    This function prints and plots the confusion matrix.\n",
    "    Normalization can be applied by setting `normalize=True`.\n",
    "    \"\"\"\n",
    "    plt.imshow(cm, interpolation='nearest', cmap=cmap)\n",
    "    plt.title(title)\n",
    "    plt.colorbar()\n",
    "    tick_marks = np.arange(len(classes))\n",
    "    plt.xticks(tick_marks, classes, rotation=45)\n",
    "    plt.yticks(tick_marks, classes)\n",
    "\n",
    "    if normalize:\n",
    "        cm = cm.astype('float') / cm.sum(axis=1)[:, np.newaxis]\n",
    "        print(\"Normalized confusion matrix\")\n",
    "    else:\n",
    "        print('Confusion matrix, without normalization')\n",
    "\n",
    "    thresh = cm.max() / 2.\n",
    "    for i, j in itertools.product(range(cm.shape[0]), range(cm.shape[1])):\n",
    "        plt.text(j, i, cm[i, j],\n",
    "                 horizontalalignment=\"center\",\n",
    "                 color=\"white\" if cm[i, j] > thresh else \"black\")\n",
    "\n",
    "    plt.tight_layout()\n",
    "    plt.ylabel('True label')\n",
    "    plt.xlabel('Predicted label')"
   ]
  },
  {
   "cell_type": "markdown",
   "id": "1ead502c",
   "metadata": {},
   "source": [
    "# MultinomialNB Algorithm"
   ]
  },
  {
   "cell_type": "code",
   "execution_count": null,
   "id": "46f5f577",
   "metadata": {},
   "outputs": [],
   "source": [
    "from sklearn.naive_bayes import MultinomialNB\n",
    "classifier=MultinomialNB()"
   ]
  },
  {
   "cell_type": "code",
   "execution_count": null,
   "id": "e86f3378",
   "metadata": {},
   "outputs": [],
   "source": [
    "from sklearn import metrics\n",
    "import numpy as np\n",
    "import itertools"
   ]
  },
  {
   "cell_type": "code",
   "execution_count": null,
   "id": "1b3e2bda",
   "metadata": {},
   "outputs": [],
   "source": [
    "\n",
    "classifier.fit(X, y)\n",
    "pred = classifier.predict(X_test)\n",
    "score = metrics.accuracy_score(y_test, pred)\n",
    "print(\"accuracy:   %0.3f\" % score)\n",
    "cm = metrics.confusion_matrix(y_test, pred)\n",
    "plot_confusion_matrix(cm, classes=['FAKE', 'REAL'])"
   ]
  },
  {
   "cell_type": "code",
   "execution_count": null,
   "id": "ecbd0d47",
   "metadata": {},
   "outputs": [],
   "source": []
  }
 ],
 "metadata": {
  "kernelspec": {
   "display_name": "Python 3",
   "language": "python",
   "name": "python3"
  },
  "language_info": {
   "codemirror_mode": {
    "name": "ipython",
    "version": 3
   },
   "file_extension": ".py",
   "mimetype": "text/x-python",
   "name": "python",
   "nbconvert_exporter": "python",
   "pygments_lexer": "ipython3",
   "version": "3.9.7"
  }
 },
 "nbformat": 4,
 "nbformat_minor": 5
}
